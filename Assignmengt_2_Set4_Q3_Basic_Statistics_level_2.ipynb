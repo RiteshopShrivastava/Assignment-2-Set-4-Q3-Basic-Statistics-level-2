{
  "nbformat": 4,
  "nbformat_minor": 0,
  "metadata": {
    "colab": {
      "name": "Assignmengt_2_Set4_Q3_Basic Statistics level_2.ipynb",
      "provenance": [],
      "collapsed_sections": [],
      "authorship_tag": "ABX9TyOpP8FxB/enm1K3uovkBzfm",
      "include_colab_link": true
    },
    "kernelspec": {
      "name": "python3",
      "display_name": "Python 3"
    },
    "language_info": {
      "name": "python"
    }
  },
  "cells": [
    {
      "cell_type": "markdown",
      "metadata": {
        "id": "view-in-github",
        "colab_type": "text"
      },
      "source": [
        "<a href=\"https://colab.research.google.com/github/RiteshopShrivastava/Assignment-2-Set-4-Q3-Basic-Statistics-level_2/blob/main/Assignmengt_2_Set4_Q3_Basic_Statistics_level_2.ipynb\" target=\"_parent\"><img src=\"https://colab.research.google.com/assets/colab-badge.svg\" alt=\"Open In Colab\"/></a>"
      ]
    },
    {
      "cell_type": "markdown",
      "metadata": {
        "id": "MwPhhJDjYCzY"
      },
      "source": [
        "Auditors at a small community bank randomly sample 100 withdrawal transactions made during the week at an ATM machine located near the bank’s main branch.Over the past 2 years, the average withdrawal amount has been  $ 50  with  a  standard deviation of $40. Since audit investigations are typically expensive, the auditors decide to not initiate further investigations if the mean transaction amount of the sample is between $45 and $55. What is the probability that in any given week, there will be an investigation?\n",
        "\n",
        "A. 1.25% B. 2.5% C. 10.55% D. 21.1% E. 50%"
      ]
    },
    {
      "cell_type": "code",
      "metadata": {
        "id": "Pnbb_MkRYWae"
      },
      "source": [
        "from scipy import stats"
      ],
      "execution_count": 1,
      "outputs": []
    },
    {
      "cell_type": "code",
      "metadata": {
        "id": "bYqupLfEYWnq"
      },
      "source": [
        "# n= 100,Pop Mean=50, Pop SD=40 As no. of samples is more than 30, we can consider it normal distribution"
      ],
      "execution_count": null,
      "outputs": []
    },
    {
      "cell_type": "code",
      "metadata": {
        "id": "OdUZHuGXdjBr"
      },
      "source": [
        "# We're in the xbar distribution (sample mean distribution, or distribution of sample means).\n",
        "# In this case the center is at mu = 50 and the standard error is SE = SD/sqrt(n) = 40/sqrt(100) = 40/10 = 4"
      ],
      "execution_count": null,
      "outputs": []
    },
    {
      "cell_type": "code",
      "metadata": {
        "colab": {
          "base_uri": "https://localhost:8080/"
        },
        "id": "8kHa_ER3YWqG",
        "outputId": "571b877b-a102-48be-8fd3-6168d820a6fe"
      },
      "source": [
        "# probability of X<45\n",
        "stats.norm.cdf(45,50,4)"
      ],
      "execution_count": 8,
      "outputs": [
        {
          "output_type": "execute_result",
          "data": {
            "text/plain": [
              "0.10564977366685535"
            ]
          },
          "metadata": {
            "tags": []
          },
          "execution_count": 8
        }
      ]
    },
    {
      "cell_type": "code",
      "metadata": {
        "colab": {
          "base_uri": "https://localhost:8080/"
        },
        "id": "nar1X2w5YWsm",
        "outputId": "df294711-77db-4e28-8308-9c0241ec3b35"
      },
      "source": [
        "# probability of X<55\n",
        "stats.norm.cdf(55,50,4)"
      ],
      "execution_count": 9,
      "outputs": [
        {
          "output_type": "execute_result",
          "data": {
            "text/plain": [
              "0.8943502263331446"
            ]
          },
          "metadata": {
            "tags": []
          },
          "execution_count": 9
        }
      ]
    },
    {
      "cell_type": "code",
      "metadata": {
        "colab": {
          "base_uri": "https://localhost:8080/"
        },
        "id": "ae-vNBFGbso_",
        "outputId": "4ff42e80-2d69-49d2-9183-fe9cfd10d0be"
      },
      "source": [
        "# probability for X<45 + X>55\n",
        "stats.norm.cdf(45,50,4) + (1 -stats.norm.cdf(55,50,4))"
      ],
      "execution_count": 11,
      "outputs": [
        {
          "output_type": "execute_result",
          "data": {
            "text/plain": [
              "0.2112995473337107"
            ]
          },
          "metadata": {
            "tags": []
          },
          "execution_count": 11
        }
      ]
    },
    {
      "cell_type": "markdown",
      "metadata": {
        "id": "vfnzCMj5i6M1"
      },
      "source": [
        "**Answer : D 21.1%**"
      ]
    },
    {
      "cell_type": "markdown",
      "metadata": {
        "id": "YITPO_wtevhe"
      },
      "source": [
        "**Alternatively**"
      ]
    },
    {
      "cell_type": "code",
      "metadata": {
        "colab": {
          "base_uri": "https://localhost:8080/"
        },
        "id": "ZdmEC8KeYWvA",
        "outputId": "1fbcf6a1-71d5-4c90-889f-41a6833a19f6"
      },
      "source": [
        "# probability for p(45 <= X <= 55),when mean= 50, SE= 4\n",
        "\n",
        "prob = stats.norm.cdf(55,loc=50,scale=4)-stats.norm.cdf(45,50,4) \n",
        "prob"
      ],
      "execution_count": 12,
      "outputs": [
        {
          "output_type": "execute_result",
          "data": {
            "text/plain": [
              "0.7887004526662893"
            ]
          },
          "metadata": {
            "tags": []
          },
          "execution_count": 12
        }
      ]
    },
    {
      "cell_type": "code",
      "metadata": {
        "colab": {
          "base_uri": "https://localhost:8080/"
        },
        "id": "yvJqYE7_YWxn",
        "outputId": "e27239e0-c798-477e-aa2b-dbe45cb0a318"
      },
      "source": [
        "# 1- p(45 <= X <= 55)\n",
        "1- prob"
      ],
      "execution_count": 13,
      "outputs": [
        {
          "output_type": "execute_result",
          "data": {
            "text/plain": [
              "0.2112995473337107"
            ]
          },
          "metadata": {
            "tags": []
          },
          "execution_count": 13
        }
      ]
    },
    {
      "cell_type": "markdown",
      "metadata": {
        "id": "0CwqPiwcg-Ow"
      },
      "source": [
        "**Answer: D 21.1%**"
      ]
    },
    {
      "cell_type": "code",
      "metadata": {
        "id": "06hUBmj_YW0U"
      },
      "source": [
        ""
      ],
      "execution_count": null,
      "outputs": []
    },
    {
      "cell_type": "code",
      "metadata": {
        "id": "PDmXRnPNYW2g"
      },
      "source": [
        ""
      ],
      "execution_count": null,
      "outputs": []
    },
    {
      "cell_type": "code",
      "metadata": {
        "id": "Jn5IGXXSYW5S"
      },
      "source": [
        ""
      ],
      "execution_count": null,
      "outputs": []
    },
    {
      "cell_type": "code",
      "metadata": {
        "id": "R0lLsPZ6YW7Z"
      },
      "source": [
        ""
      ],
      "execution_count": null,
      "outputs": []
    },
    {
      "cell_type": "code",
      "metadata": {
        "id": "dCAFv0kKYW-7"
      },
      "source": [
        ""
      ],
      "execution_count": null,
      "outputs": []
    }
  ]
}